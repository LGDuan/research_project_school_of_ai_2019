{
  "nbformat": 4,
  "nbformat_minor": 0,
  "metadata": {
    "colab": {
      "name": "Research_Project_SchoolofAI.ipynb",
      "version": "0.3.2",
      "provenance": [],
      "collapsed_sections": [],
      "include_colab_link": true
    },
    "kernelspec": {
      "name": "python3",
      "display_name": "Python 3"
    }
  },
  "cells": [
    {
      "cell_type": "markdown",
      "metadata": {
        "id": "view-in-github",
        "colab_type": "text"
      },
      "source": [
        "<a href=\"https://colab.research.google.com/github/decoderkurt/research_project_school_of_ai_2019/blob/master/Research_Project_SchoolofAI.ipynb\" target=\"_parent\"><img src=\"https://colab.research.google.com/assets/colab-badge.svg\" alt=\"Open In Colab\"/></a>"
      ]
    },
    {
      "metadata": {
        "id": "eLwUlLNf68zx",
        "colab_type": "text"
      },
      "cell_type": "markdown",
      "source": [
        "[<img src=\"https://github.com/decoderkurt/research_project_school_of_ai_2019/blob/master/oneshotgo/data/res/logo.png?raw=1\" width=70%/>](https://www.theschool.ai/school-of-ai-fellowship/)\n",
        "# One shot learning using Proximal Policy Optimization \n",
        "**Kurt Koo** callmekoo@gmail.com  *Research Fellow, School of AI*  [![linkedin](https://github.com/decoderkurt/research_project_school_of_ai_2019/blob/master/oneshotgo/data/res/linkedin.png?raw=1)](https://www.linkedin.com/in/kurtkoo)   [![twitter](https://github.com/decoderkurt/research_project_school_of_ai_2019/blob/master/oneshotgo/data/res/twitter.png?raw=1)](https://twitter.com/kurt_koo)  [![facebook](https://github.com/decoderkurt/research_project_school_of_ai_2019/blob/master/oneshotgo/data/res/fb.png?raw=1)](https://www.facebook.com/vcmlrl)\n",
        "\n",
        "\n",
        "github: https://github.com/decoderkurt/research_project_school_of_ai_2019\n",
        "\n",
        "\n",
        "\n",
        "<img src=\"https://github.com/decoderkurt/research_project_school_of_ai_2019/blob/master/oneshotgo/data/res/flow.png?raw=1\" width=100%/>"
      ]
    },
    {
      "metadata": {
        "id": "oVw1kZtcrHuk",
        "colab_type": "text"
      },
      "cell_type": "markdown",
      "source": [
        "## Data"
      ]
    },
    {
      "metadata": {
        "id": "U3DKLJmppWO9",
        "colab_type": "text"
      },
      "cell_type": "markdown",
      "source": [
        "### image data no. 012"
      ]
    },
    {
      "metadata": {
        "id": "9L1kjrYaoa2U",
        "colab_type": "text"
      },
      "cell_type": "markdown",
      "source": [
        "![012Ori.bmp](https://github.com/decoderkurt/research_project_school_of_ai_2019/raw/master/oneshotgo/data/012Ori.bmp)\n",
        "![012Ori.png](https://github.com/decoderkurt/research_project_school_of_ai_2019/raw/master/oneshotgo/data/012Ori.png)"
      ]
    },
    {
      "metadata": {
        "id": "MzR-jSZWqP2V",
        "colab_type": "text"
      },
      "cell_type": "markdown",
      "source": [
        "**10x10 sized**"
      ]
    },
    {
      "metadata": {
        "id": "d9wI6crln6v0",
        "colab_type": "text"
      },
      "cell_type": "markdown",
      "source": [
        "![012.bmp](https://github.com/decoderkurt/research_project_school_of_ai_2019/raw/master/oneshotgo/data/012.bmp)\n",
        "![012.png](https://github.com/decoderkurt/research_project_school_of_ai_2019/raw/master/oneshotgo/data/012.png)"
      ]
    },
    {
      "metadata": {
        "id": "0A_2raE_qY2c",
        "colab_type": "text"
      },
      "cell_type": "markdown",
      "source": [
        "### image data no. 065"
      ]
    },
    {
      "metadata": {
        "id": "FQaxQ1F-otvu",
        "colab_type": "text"
      },
      "cell_type": "markdown",
      "source": [
        "![065Ori.bmp](https://github.com/decoderkurt/research_project_school_of_ai_2019/raw/master/oneshotgo/data/065Ori.bmp)\n",
        "![065Ori.png](https://github.com/decoderkurt/research_project_school_of_ai_2019/raw/master/oneshotgo/data/065Ori.png)"
      ]
    },
    {
      "metadata": {
        "id": "oA4QV6odqsZ8",
        "colab_type": "text"
      },
      "cell_type": "markdown",
      "source": [
        "**10x10**"
      ]
    },
    {
      "metadata": {
        "id": "XW_vZKiEo-Gd",
        "colab_type": "text"
      },
      "cell_type": "markdown",
      "source": [
        "![065_10x10.bmp](https://github.com/decoderkurt/research_project_school_of_ai_2019/raw/master/oneshotgo/data/065_10x10.bmp)\n",
        "![065_10x10.png](https://github.com/decoderkurt/research_project_school_of_ai_2019/raw/master/oneshotgo/data/065_10x10.png)\n",
        "\n",
        "\n"
      ]
    },
    {
      "metadata": {
        "id": "_cSYWqgHq53D",
        "colab_type": "text"
      },
      "cell_type": "markdown",
      "source": [
        "**100x100**"
      ]
    },
    {
      "metadata": {
        "id": "MTiv8SdCqsrc",
        "colab_type": "text"
      },
      "cell_type": "markdown",
      "source": [
        "\n",
        "![065Ori.bmp](https://github.com/decoderkurt/research_project_school_of_ai_2019/raw/master/oneshotgo/data/065_100x100.bmp)\n",
        "![065Ori.png](https://github.com/decoderkurt/research_project_school_of_ai_2019/raw/master/oneshotgo/data/065_100x100.png)\n",
        "\n"
      ]
    },
    {
      "metadata": {
        "id": "zXMxlybpmdd2",
        "colab_type": "text"
      },
      "cell_type": "markdown",
      "source": [
        "## Install"
      ]
    },
    {
      "metadata": {
        "id": "rZMu79c3l2CF",
        "colab_type": "text"
      },
      "cell_type": "markdown",
      "source": [
        "1.   Get code from github\n",
        "2.   Go to cloned direcory\n",
        "3.   Install OneShotGo env from code for OpenAI gym\n",
        "\n"
      ]
    },
    {
      "metadata": {
        "id": "Tr-7C_0AiMOi",
        "colab_type": "code",
        "colab": {}
      },
      "cell_type": "code",
      "source": [
        "!git clone https://github.com/decoderkurt/research_project_school_of_ai_2019.git"
      ],
      "execution_count": 0,
      "outputs": []
    },
    {
      "metadata": {
        "id": "x-fDN_RjiP5w",
        "colab_type": "code",
        "colab": {}
      },
      "cell_type": "code",
      "source": [
        "%cd research_project_school_of_ai_2019"
      ],
      "execution_count": 0,
      "outputs": []
    },
    {
      "metadata": {
        "id": "DRmlu3NpiTxg",
        "colab_type": "code",
        "colab": {}
      },
      "cell_type": "code",
      "source": [
        "!pip install -e ."
      ],
      "execution_count": 0,
      "outputs": []
    },
    {
      "metadata": {
        "id": "jDkT-fj6m2vW",
        "colab_type": "text"
      },
      "cell_type": "markdown",
      "source": [
        "## Run"
      ]
    },
    {
      "metadata": {
        "id": "PbHflLwzm_ft",
        "colab_type": "text"
      },
      "cell_type": "markdown",
      "source": [
        "* ** with save_your_own_model**"
      ]
    },
    {
      "metadata": {
        "id": "0MymkSBqiW4g",
        "colab_type": "code",
        "colab": {}
      },
      "cell_type": "code",
      "source": [
        "!python -m baselines.run --alg=ppo2 --env=OneShotGo-v0 --save_path=\"YourOwnOneShotGo10M\" --num_env=1 --num_timesteps=1e6"
      ],
      "execution_count": 0,
      "outputs": []
    },
    {
      "metadata": {
        "id": "1hbBH2JNnP0u",
        "colab_type": "text"
      },
      "cell_type": "markdown",
      "source": [
        "* ** with loading from your own saved model**"
      ]
    },
    {
      "metadata": {
        "id": "O3yaWi92iwUg",
        "colab_type": "code",
        "outputId": "05421231-ebf6-4c90-9575-5cce5c7b05b0",
        "colab": {
          "base_uri": "https://localhost:8080/",
          "height": 13607
        }
      },
      "cell_type": "code",
      "source": [
        "!python -m baselines.run --alg=ppo2 --env=OneShotGo-v0 --load_path=\"YourOwnOneShotGo10M\" --num_env=1 --num_timesteps=1e6"
      ],
      "execution_count": 0,
      "outputs": [
        {
          "output_type": "stream",
          "text": [
            "Logging to /tmp/openai-2019-01-08-02-27-55-377075\n",
            "Logging to /tmp/openai-2019-01-08-02-27-55-695026\n",
            "env_type: env\n",
            "/usr/local/lib/python3.6/dist-packages/gym/envs/registration.py:14: PkgResourcesDeprecationWarning: Parameters to load are deprecated.  Call .resolve and .require separately.\n",
            "  result = entry_point.load(False)\n",
            "--------------------------------------\n",
            "| IMAGE:  012.bmp MASK:  012.png     |\n",
            "--------------------------------------\n",
            "Training ppo2 on env:OneShotGo-v0 with arguments \n",
            "{'load_path': 'YourOwnOneShotGo10M', 'network': 'mlp'}\n",
            "---------------------------------------\n",
            "| approxkl           | 1.076699e-05   |\n",
            "| clipfrac           | 0.0            |\n",
            "| eplenmean          | 100            |\n",
            "| eprewmean          | 64.7           |\n",
            "| explained_variance | 0.00473        |\n",
            "| fps                | 778            |\n",
            "| nupdates           | 1              |\n",
            "| policy_entropy     | 0.17524095     |\n",
            "| policy_loss        | -0.00012127112 |\n",
            "| serial_timesteps   | 2048           |\n",
            "| time_elapsed       | 2.63           |\n",
            "| total_timesteps    | 2048           |\n",
            "| value_loss         | 34.39727       |\n",
            "---------------------------------------\n",
            "--------------------------------------\n",
            "| approxkl           | 6.43934e-05   |\n",
            "| clipfrac           | 0.00048828125 |\n",
            "| eplenmean          | 100           |\n",
            "| eprewmean          | 64.4          |\n",
            "| explained_variance | 0.00431       |\n",
            "| fps                | 819           |\n",
            "| nupdates           | 10            |\n",
            "| policy_entropy     | 0.18759285    |\n",
            "| policy_loss        | -0.0005541595 |\n",
            "| serial_timesteps   | 20480         |\n",
            "| time_elapsed       | 25.3          |\n",
            "| total_timesteps    | 20480         |\n",
            "| value_loss         | 34.542946     |\n",
            "--------------------------------------\n",
            "--------------------------------------\n",
            "| approxkl           | 0.00014458832 |\n",
            "| clipfrac           | 0.0012207031  |\n",
            "| eplenmean          | 100           |\n",
            "| eprewmean          | 64.3          |\n",
            "| explained_variance | 0.00452       |\n",
            "| fps                | 819           |\n",
            "| nupdates           | 20            |\n",
            "| policy_entropy     | 0.168987      |\n",
            "| policy_loss        | -0.0007630769 |\n",
            "| serial_timesteps   | 40960         |\n",
            "| time_elapsed       | 50.3          |\n",
            "| total_timesteps    | 40960         |\n",
            "| value_loss         | 34.542896     |\n",
            "--------------------------------------\n",
            "--------------------------------------\n",
            "| approxkl           | 8.923562e-05  |\n",
            "| clipfrac           | 0.0007324219  |\n",
            "| eplenmean          | 100           |\n",
            "| eprewmean          | 64.5          |\n",
            "| explained_variance | 0.00468       |\n",
            "| fps                | 816           |\n",
            "| nupdates           | 30            |\n",
            "| policy_entropy     | 0.19345893    |\n",
            "| policy_loss        | -0.0006859048 |\n",
            "| serial_timesteps   | 61440         |\n",
            "| time_elapsed       | 75.6          |\n",
            "| total_timesteps    | 61440         |\n",
            "| value_loss         | 35.93267      |\n",
            "--------------------------------------\n",
            "---------------------------------------\n",
            "| approxkl           | 0.00015821261  |\n",
            "| clipfrac           | 0.00061035156  |\n",
            "| eplenmean          | 100            |\n",
            "| eprewmean          | 64.1           |\n",
            "| explained_variance | 0.00481        |\n",
            "| fps                | 840            |\n",
            "| nupdates           | 40             |\n",
            "| policy_entropy     | 0.24342489     |\n",
            "| policy_loss        | -0.00085521693 |\n",
            "| serial_timesteps   | 81920          |\n",
            "| time_elapsed       | 100            |\n",
            "| total_timesteps    | 81920          |\n",
            "| value_loss         | 35.739384      |\n",
            "---------------------------------------\n",
            "--------------------------------------\n",
            "| approxkl           | 0.00010798539 |\n",
            "| clipfrac           | 0.0009765625  |\n",
            "| eplenmean          | 100           |\n",
            "| eprewmean          | 64.2          |\n",
            "| explained_variance | 0.00435       |\n",
            "| fps                | 820           |\n",
            "| nupdates           | 50            |\n",
            "| policy_entropy     | 0.23888539    |\n",
            "| policy_loss        | -0.000564447  |\n",
            "| serial_timesteps   | 102400        |\n",
            "| time_elapsed       | 126           |\n",
            "| total_timesteps    | 102400        |\n",
            "| value_loss         | 35.42892      |\n",
            "--------------------------------------\n",
            "---------------------------------------\n",
            "| approxkl           | 7.9948106e-05  |\n",
            "| clipfrac           | 0.00036621094  |\n",
            "| eplenmean          | 100            |\n",
            "| eprewmean          | 64.4           |\n",
            "| explained_variance | 0.00457        |\n",
            "| fps                | 806            |\n",
            "| nupdates           | 60             |\n",
            "| policy_entropy     | 0.20912065     |\n",
            "| policy_loss        | -0.00029551843 |\n",
            "| serial_timesteps   | 122880         |\n",
            "| time_elapsed       | 151            |\n",
            "| total_timesteps    | 122880         |\n",
            "| value_loss         | 34.52489       |\n",
            "---------------------------------------\n",
            "---------------------------------------\n",
            "| approxkl           | 0.00016897166  |\n",
            "| clipfrac           | 0.0012207031   |\n",
            "| eplenmean          | 100            |\n",
            "| eprewmean          | 64.2           |\n",
            "| explained_variance | 0.00433        |\n",
            "| fps                | 818            |\n",
            "| nupdates           | 70             |\n",
            "| policy_entropy     | 0.21312916     |\n",
            "| policy_loss        | -0.00096694235 |\n",
            "| serial_timesteps   | 143360         |\n",
            "| time_elapsed       | 176            |\n",
            "| total_timesteps    | 143360         |\n",
            "| value_loss         | 34.335598      |\n",
            "---------------------------------------\n",
            "--------------------------------------\n",
            "| approxkl           | 7.574639e-05  |\n",
            "| clipfrac           | 0.0009765625  |\n",
            "| eplenmean          | 100           |\n",
            "| eprewmean          | 64.3          |\n",
            "| explained_variance | 0.00479       |\n",
            "| fps                | 812           |\n",
            "| nupdates           | 80            |\n",
            "| policy_entropy     | 0.21768352    |\n",
            "| policy_loss        | -0.0004453582 |\n",
            "| serial_timesteps   | 163840        |\n",
            "| time_elapsed       | 201           |\n",
            "| total_timesteps    | 163840        |\n",
            "| value_loss         | 35.40222      |\n",
            "--------------------------------------\n",
            "---------------------------------------\n",
            "| approxkl           | 9.438131e-05   |\n",
            "| clipfrac           | 0.0013427734   |\n",
            "| eplenmean          | 100            |\n",
            "| eprewmean          | 64.1           |\n",
            "| explained_variance | 0.00511        |\n",
            "| fps                | 819            |\n",
            "| nupdates           | 90             |\n",
            "| policy_entropy     | 0.20584106     |\n",
            "| policy_loss        | -0.00069081935 |\n",
            "| serial_timesteps   | 184320         |\n",
            "| time_elapsed       | 227            |\n",
            "| total_timesteps    | 184320         |\n",
            "| value_loss         | 35.085217      |\n",
            "---------------------------------------\n",
            "---------------------------------------\n",
            "| approxkl           | 4.954783e-05   |\n",
            "| clipfrac           | 0.00048828125  |\n",
            "| eplenmean          | 100            |\n",
            "| eprewmean          | 64.2           |\n",
            "| explained_variance | 0.00471        |\n",
            "| fps                | 837            |\n",
            "| nupdates           | 100            |\n",
            "| policy_entropy     | 0.19093089     |\n",
            "| policy_loss        | -0.00054038595 |\n",
            "| serial_timesteps   | 204800         |\n",
            "| time_elapsed       | 252            |\n",
            "| total_timesteps    | 204800         |\n",
            "| value_loss         | 35.46074       |\n",
            "---------------------------------------\n",
            "---------------------------------------\n",
            "| approxkl           | 2.486852e-05   |\n",
            "| clipfrac           | 0.00036621094  |\n",
            "| eplenmean          | 100            |\n",
            "| eprewmean          | 64.6           |\n",
            "| explained_variance | 0.00458        |\n",
            "| fps                | 822            |\n",
            "| nupdates           | 110            |\n",
            "| policy_entropy     | 0.12822556     |\n",
            "| policy_loss        | -0.00027215635 |\n",
            "| serial_timesteps   | 225280         |\n",
            "| time_elapsed       | 276            |\n",
            "| total_timesteps    | 225280         |\n",
            "| value_loss         | 34.755623      |\n",
            "---------------------------------------\n",
            "--------------------------------------\n",
            "| approxkl           | 8.373304e-06  |\n",
            "| clipfrac           | 0.00012207031 |\n",
            "| eplenmean          | 100           |\n",
            "| eprewmean          | 64.7          |\n",
            "| explained_variance | 0.00456       |\n",
            "| fps                | 821           |\n",
            "| nupdates           | 120           |\n",
            "| policy_entropy     | 0.11680365    |\n",
            "| policy_loss        | -8.823833e-05 |\n",
            "| serial_timesteps   | 245760        |\n",
            "| time_elapsed       | 302           |\n",
            "| total_timesteps    | 245760        |\n",
            "| value_loss         | 34.48952      |\n",
            "--------------------------------------\n",
            "--------------------------------------\n",
            "| approxkl           | 2.8685105e-05 |\n",
            "| clipfrac           | 0.0           |\n",
            "| eplenmean          | 100           |\n",
            "| eprewmean          | 64.5          |\n",
            "| explained_variance | 0.00481       |\n",
            "| fps                | 816           |\n",
            "| nupdates           | 130           |\n",
            "| policy_entropy     | 0.122500055   |\n",
            "| policy_loss        | -0.0004251949 |\n",
            "| serial_timesteps   | 266240        |\n",
            "| time_elapsed       | 327           |\n",
            "| total_timesteps    | 266240        |\n",
            "| value_loss         | 35.680157     |\n",
            "--------------------------------------\n",
            "---------------------------------------\n",
            "| approxkl           | 1.0475633e-05  |\n",
            "| clipfrac           | 0.0            |\n",
            "| eplenmean          | 100            |\n",
            "| eprewmean          | 64.5           |\n",
            "| explained_variance | 0.00484        |\n",
            "| fps                | 822            |\n",
            "| nupdates           | 140            |\n",
            "| policy_entropy     | 0.1434097      |\n",
            "| policy_loss        | -0.00010703871 |\n",
            "| serial_timesteps   | 286720         |\n",
            "| time_elapsed       | 352            |\n",
            "| total_timesteps    | 286720         |\n",
            "| value_loss         | 35.98206       |\n",
            "---------------------------------------\n",
            "---------------------------------------\n",
            "| approxkl           | 1.7091072e-05  |\n",
            "| clipfrac           | 0.0            |\n",
            "| eplenmean          | 100            |\n",
            "| eprewmean          | 64.7           |\n",
            "| explained_variance | 0.00484        |\n",
            "| fps                | 822            |\n",
            "| nupdates           | 150            |\n",
            "| policy_entropy     | 0.09706116     |\n",
            "| policy_loss        | -0.00014180233 |\n",
            "| serial_timesteps   | 307200         |\n",
            "| time_elapsed       | 377            |\n",
            "| total_timesteps    | 307200         |\n",
            "| value_loss         | 35.580566      |\n",
            "---------------------------------------\n",
            "--------------------------------------\n",
            "| approxkl           | 8.4044426e-05 |\n",
            "| clipfrac           | 0.0009765625  |\n",
            "| eplenmean          | 100           |\n",
            "| eprewmean          | 64.6          |\n",
            "| explained_variance | 0.00447       |\n",
            "| fps                | 838           |\n",
            "| nupdates           | 160           |\n",
            "| policy_entropy     | 0.14457881    |\n",
            "| policy_loss        | -0.000374638  |\n",
            "| serial_timesteps   | 327680        |\n",
            "| time_elapsed       | 402           |\n",
            "| total_timesteps    | 327680        |\n",
            "| value_loss         | 34.457897     |\n",
            "--------------------------------------\n",
            "--------------------------------------\n",
            "| approxkl           | 6.3288244e-05 |\n",
            "| clipfrac           | 0.0008544922  |\n",
            "| eplenmean          | 100           |\n",
            "| eprewmean          | 64.6          |\n",
            "| explained_variance | 0.00424       |\n",
            "| fps                | 817           |\n",
            "| nupdates           | 170           |\n",
            "| policy_entropy     | 0.14320432    |\n",
            "| policy_loss        | -0.0005821599 |\n",
            "| serial_timesteps   | 348160        |\n",
            "| time_elapsed       | 427           |\n",
            "| total_timesteps    | 348160        |\n",
            "| value_loss         | 34.386547     |\n",
            "--------------------------------------\n",
            "---------------------------------------\n",
            "| approxkl           | 2.6974667e-05  |\n",
            "| clipfrac           | 0.00024414062  |\n",
            "| eplenmean          | 100            |\n",
            "| eprewmean          | 64.6           |\n",
            "| explained_variance | 0.00475        |\n",
            "| fps                | 820            |\n",
            "| nupdates           | 180            |\n",
            "| policy_entropy     | 0.14583234     |\n",
            "| policy_loss        | -0.00012801471 |\n",
            "| serial_timesteps   | 368640         |\n",
            "| time_elapsed       | 452            |\n",
            "| total_timesteps    | 368640         |\n",
            "| value_loss         | 35.90762       |\n",
            "---------------------------------------\n",
            "--------------------------------------\n",
            "| approxkl           | 7.650432e-05  |\n",
            "| clipfrac           | 0.0010986328  |\n",
            "| eplenmean          | 100           |\n",
            "| eprewmean          | 64.5          |\n",
            "| explained_variance | 0.00475       |\n",
            "| fps                | 819           |\n",
            "| nupdates           | 190           |\n",
            "| policy_entropy     | 0.14794953    |\n",
            "| policy_loss        | -0.0005289288 |\n",
            "| serial_timesteps   | 389120        |\n",
            "| time_elapsed       | 478           |\n",
            "| total_timesteps    | 389120        |\n",
            "| value_loss         | 35.753384     |\n",
            "--------------------------------------\n",
            "---------------------------------------\n",
            "| approxkl           | 5.3847516e-06  |\n",
            "| clipfrac           | 0.0            |\n",
            "| eplenmean          | 100            |\n",
            "| eprewmean          | 64.7           |\n",
            "| explained_variance | 0.00471        |\n",
            "| fps                | 822            |\n",
            "| nupdates           | 200            |\n",
            "| policy_entropy     | 0.08349292     |\n",
            "| policy_loss        | -6.4078515e-05 |\n",
            "| serial_timesteps   | 409600         |\n",
            "| time_elapsed       | 503            |\n",
            "| total_timesteps    | 409600         |\n",
            "| value_loss         | 35.923122      |\n",
            "---------------------------------------\n",
            "--------------------------------------\n",
            "| approxkl           | 6.0026737e-06 |\n",
            "| clipfrac           | 0.0           |\n",
            "| eplenmean          | 100           |\n",
            "| eprewmean          | 64.9          |\n",
            "| explained_variance | 0.00438       |\n",
            "| fps                | 823           |\n",
            "| nupdates           | 210           |\n",
            "| policy_entropy     | 0.05574702    |\n",
            "| policy_loss        | -6.792499e-05 |\n",
            "| serial_timesteps   | 430080        |\n",
            "| time_elapsed       | 528           |\n",
            "| total_timesteps    | 430080        |\n",
            "| value_loss         | 35.21832      |\n",
            "--------------------------------------\n",
            "---------------------------------------\n",
            "| approxkl           | 8.159604e-05   |\n",
            "| clipfrac           | 0.0012207031   |\n",
            "| eplenmean          | 100            |\n",
            "| eprewmean          | 64.9           |\n",
            "| explained_variance | 0.00483        |\n",
            "| fps                | 820            |\n",
            "| nupdates           | 220            |\n",
            "| policy_entropy     | 0.055388883    |\n",
            "| policy_loss        | -0.00052277464 |\n",
            "| serial_timesteps   | 450560         |\n",
            "| time_elapsed       | 552            |\n",
            "| total_timesteps    | 450560         |\n",
            "| value_loss         | 34.6539        |\n",
            "---------------------------------------\n",
            "---------------------------------------\n",
            "| approxkl           | 1.41694745e-05 |\n",
            "| clipfrac           | 0.00012207031  |\n",
            "| eplenmean          | 100            |\n",
            "| eprewmean          | 64.9           |\n",
            "| explained_variance | 0.0046         |\n",
            "| fps                | 822            |\n",
            "| nupdates           | 230            |\n",
            "| policy_entropy     | 0.054424312    |\n",
            "| policy_loss        | -0.00015659176 |\n",
            "| serial_timesteps   | 471040         |\n",
            "| time_elapsed       | 577            |\n",
            "| total_timesteps    | 471040         |\n",
            "| value_loss         | 36.339603      |\n",
            "---------------------------------------\n",
            "---------------------------------------\n",
            "| approxkl           | 1.3651188e-05  |\n",
            "| clipfrac           | 0.00036621094  |\n",
            "| eplenmean          | 100            |\n",
            "| eprewmean          | 64.9           |\n",
            "| explained_variance | 0.00486        |\n",
            "| fps                | 729            |\n",
            "| nupdates           | 240            |\n",
            "| policy_entropy     | 0.075439245    |\n",
            "| policy_loss        | -0.00012828011 |\n",
            "| serial_timesteps   | 491520         |\n",
            "| time_elapsed       | 603            |\n",
            "| total_timesteps    | 491520         |\n",
            "| value_loss         | 36.065933      |\n",
            "---------------------------------------\n",
            "---------------------------------------\n",
            "| approxkl           | 2.5962067e-05  |\n",
            "| clipfrac           | 0.00036621094  |\n",
            "| eplenmean          | 100            |\n",
            "| eprewmean          | 64.9           |\n",
            "| explained_variance | 0.00481        |\n",
            "| fps                | 820            |\n",
            "| nupdates           | 250            |\n",
            "| policy_entropy     | 0.071235       |\n",
            "| policy_loss        | -0.00029175144 |\n",
            "| serial_timesteps   | 512000         |\n",
            "| time_elapsed       | 628            |\n",
            "| total_timesteps    | 512000         |\n",
            "| value_loss         | 36.050617      |\n",
            "---------------------------------------\n",
            "---------------------------------------\n",
            "| approxkl           | 1.099704e-05   |\n",
            "| clipfrac           | 0.0            |\n",
            "| eplenmean          | 100            |\n",
            "| eprewmean          | 64.9           |\n",
            "| explained_variance | 0.0045         |\n",
            "| fps                | 828            |\n",
            "| nupdates           | 260            |\n",
            "| policy_entropy     | 0.08505625     |\n",
            "| policy_loss        | -0.00016254772 |\n",
            "| serial_timesteps   | 532480         |\n",
            "| time_elapsed       | 653            |\n",
            "| total_timesteps    | 532480         |\n",
            "| value_loss         | 34.732662      |\n",
            "---------------------------------------\n",
            "---------------------------------------\n",
            "| approxkl           | 3.972381e-05   |\n",
            "| clipfrac           | 0.00048828125  |\n",
            "| eplenmean          | 100            |\n",
            "| eprewmean          | 64.9           |\n",
            "| explained_variance | 0.00474        |\n",
            "| fps                | 817            |\n",
            "| nupdates           | 270            |\n",
            "| policy_entropy     | 0.07412327     |\n",
            "| policy_loss        | -0.00043081597 |\n",
            "| serial_timesteps   | 552960         |\n",
            "| time_elapsed       | 678            |\n",
            "| total_timesteps    | 552960         |\n",
            "| value_loss         | 34.776077      |\n",
            "---------------------------------------\n",
            "---------------------------------------\n",
            "| approxkl           | 1.5106033e-05  |\n",
            "| clipfrac           | 0.00024414062  |\n",
            "| eplenmean          | 100            |\n",
            "| eprewmean          | 64.8           |\n",
            "| explained_variance | 0.00477        |\n",
            "| fps                | 817            |\n",
            "| nupdates           | 280            |\n",
            "| policy_entropy     | 0.07251193     |\n",
            "| policy_loss        | -0.00012908127 |\n",
            "| serial_timesteps   | 573440         |\n",
            "| time_elapsed       | 703            |\n",
            "| total_timesteps    | 573440         |\n",
            "| value_loss         | 36.32259       |\n",
            "---------------------------------------\n",
            "--------------------------------------\n",
            "| approxkl           | 4.1586532e-05 |\n",
            "| clipfrac           | 0.00048828125 |\n",
            "| eplenmean          | 100           |\n",
            "| eprewmean          | 64.7          |\n",
            "| explained_variance | 0.00492       |\n",
            "| fps                | 838           |\n",
            "| nupdates           | 290           |\n",
            "| policy_entropy     | 0.09281328    |\n",
            "| policy_loss        | -0.0003347891 |\n",
            "| serial_timesteps   | 593920        |\n",
            "| time_elapsed       | 728           |\n",
            "| total_timesteps    | 593920        |\n",
            "| value_loss         | 35.95974      |\n",
            "--------------------------------------\n",
            "---------------------------------------\n",
            "| approxkl           | 3.3690147e-05  |\n",
            "| clipfrac           | 0.00024414062  |\n",
            "| eplenmean          | 100            |\n",
            "| eprewmean          | 64.6           |\n",
            "| explained_variance | 0.00478        |\n",
            "| fps                | 782            |\n",
            "| nupdates           | 300            |\n",
            "| policy_entropy     | 0.09431566     |\n",
            "| policy_loss        | -0.00014738343 |\n",
            "| serial_timesteps   | 614400         |\n",
            "| time_elapsed       | 753            |\n",
            "| total_timesteps    | 614400         |\n",
            "| value_loss         | 35.560425      |\n",
            "---------------------------------------\n",
            "--------------------------------------\n",
            "| approxkl           | 7.2083116e-05 |\n",
            "| clipfrac           | 0.0014648438  |\n",
            "| eplenmean          | 100           |\n",
            "| eprewmean          | 64.6          |\n",
            "| explained_variance | 0.00437       |\n",
            "| fps                | 827           |\n",
            "| nupdates           | 310           |\n",
            "| policy_entropy     | 0.10082887    |\n",
            "| policy_loss        | -0.0004866854 |\n",
            "| serial_timesteps   | 634880        |\n",
            "| time_elapsed       | 778           |\n",
            "| total_timesteps    | 634880        |\n",
            "| value_loss         | 34.27515      |\n",
            "--------------------------------------\n",
            "--------------------------------------\n",
            "| approxkl           | 0.00020010972 |\n",
            "| clipfrac           | 0.0018310547  |\n",
            "| eplenmean          | 100           |\n",
            "| eprewmean          | 64.3          |\n",
            "| explained_variance | 0.00453       |\n",
            "| fps                | 818           |\n",
            "| nupdates           | 320           |\n",
            "| policy_entropy     | 0.15108062    |\n",
            "| policy_loss        | -0.0006342112 |\n",
            "| serial_timesteps   | 655360        |\n",
            "| time_elapsed       | 803           |\n",
            "| total_timesteps    | 655360        |\n",
            "| value_loss         | 34.237747     |\n",
            "--------------------------------------\n",
            "---------------------------------------\n",
            "| approxkl           | 3.7941052e-05  |\n",
            "| clipfrac           | 0.00036621094  |\n",
            "| eplenmean          | 100            |\n",
            "| eprewmean          | 64.3           |\n",
            "| explained_variance | 0.00475        |\n",
            "| fps                | 813            |\n",
            "| nupdates           | 330            |\n",
            "| policy_entropy     | 0.16268356     |\n",
            "| policy_loss        | -0.00015191309 |\n",
            "| serial_timesteps   | 675840         |\n",
            "| time_elapsed       | 828            |\n",
            "| total_timesteps    | 675840         |\n",
            "| value_loss         | 35.702637      |\n",
            "---------------------------------------\n",
            "---------------------------------------\n",
            "| approxkl           | 0.000114931565 |\n",
            "| clipfrac           | 0.0013427734   |\n",
            "| eplenmean          | 100            |\n",
            "| eprewmean          | 64.4           |\n",
            "| explained_variance | 0.0048         |\n",
            "| fps                | 820            |\n",
            "| nupdates           | 340            |\n",
            "| policy_entropy     | 0.17668864     |\n",
            "| policy_loss        | -0.0005018495  |\n",
            "| serial_timesteps   | 696320         |\n",
            "| time_elapsed       | 853            |\n",
            "| total_timesteps    | 696320         |\n",
            "| value_loss         | 36.027176      |\n",
            "---------------------------------------\n",
            "--------------------------------------\n",
            "| approxkl           | 9.534236e-05  |\n",
            "| clipfrac           | 0.00048828125 |\n",
            "| eplenmean          | 100           |\n",
            "| eprewmean          | 64.2          |\n",
            "| explained_variance | 0.00466       |\n",
            "| fps                | 842           |\n",
            "| nupdates           | 350           |\n",
            "| policy_entropy     | 0.1932374     |\n",
            "| policy_loss        | -0.0003053596 |\n",
            "| serial_timesteps   | 716800        |\n",
            "| time_elapsed       | 878           |\n",
            "| total_timesteps    | 716800        |\n",
            "| value_loss         | 35.691563     |\n",
            "--------------------------------------\n",
            "---------------------------------------\n",
            "| approxkl           | 1.981078e-05   |\n",
            "| clipfrac           | 0.0            |\n",
            "| eplenmean          | 100            |\n",
            "| eprewmean          | 64.5           |\n",
            "| explained_variance | 0.00443        |\n",
            "| fps                | 818            |\n",
            "| nupdates           | 360            |\n",
            "| policy_entropy     | 0.106628075    |\n",
            "| policy_loss        | -0.00018030612 |\n",
            "| serial_timesteps   | 737280         |\n",
            "| time_elapsed       | 902            |\n",
            "| total_timesteps    | 737280         |\n",
            "| value_loss         | 34.396584      |\n",
            "---------------------------------------\n",
            "--------------------------------------\n",
            "| approxkl           | 4.0580562e-05 |\n",
            "| clipfrac           | 0.00036621094 |\n",
            "| eplenmean          | 100           |\n",
            "| eprewmean          | 64.8          |\n",
            "| explained_variance | 0.00464       |\n",
            "| fps                | 818           |\n",
            "| nupdates           | 370           |\n",
            "| policy_entropy     | 0.08516927    |\n",
            "| policy_loss        | -0.0005052525 |\n",
            "| serial_timesteps   | 757760        |\n",
            "| time_elapsed       | 929           |\n",
            "| total_timesteps    | 757760        |\n",
            "| value_loss         | 34.592434     |\n",
            "--------------------------------------\n",
            "---------------------------------------\n",
            "| approxkl           | 5.0226023e-05  |\n",
            "| clipfrac           | 0.00036621094  |\n",
            "| eplenmean          | 100            |\n",
            "| eprewmean          | 64.7           |\n",
            "| explained_variance | 0.00475        |\n",
            "| fps                | 822            |\n",
            "| nupdates           | 380            |\n",
            "| policy_entropy     | 0.067774504    |\n",
            "| policy_loss        | -0.00032634134 |\n",
            "| serial_timesteps   | 778240         |\n",
            "| time_elapsed       | 954            |\n",
            "| total_timesteps    | 778240         |\n",
            "| value_loss         | 36.03786       |\n",
            "---------------------------------------\n",
            "---------------------------------------\n",
            "| approxkl           | 1.0941051e-05  |\n",
            "| clipfrac           | 0.0            |\n",
            "| eplenmean          | 100            |\n",
            "| eprewmean          | 64.8           |\n",
            "| explained_variance | 0.00477        |\n",
            "| fps                | 824            |\n",
            "| nupdates           | 390            |\n",
            "| policy_entropy     | 0.07858644     |\n",
            "| policy_loss        | -0.00019401929 |\n",
            "| serial_timesteps   | 798720         |\n",
            "| time_elapsed       | 979            |\n",
            "| total_timesteps    | 798720         |\n",
            "| value_loss         | 36.047993      |\n",
            "---------------------------------------\n",
            "---------------------------------------\n",
            "| approxkl           | 4.9160764e-05  |\n",
            "| clipfrac           | 0.0010986328   |\n",
            "| eplenmean          | 100            |\n",
            "| eprewmean          | 64.7           |\n",
            "| explained_variance | 0.00473        |\n",
            "| fps                | 826            |\n",
            "| nupdates           | 400            |\n",
            "| policy_entropy     | 0.10141608     |\n",
            "| policy_loss        | -0.00051030447 |\n",
            "| serial_timesteps   | 819200         |\n",
            "| time_elapsed       | 1e+03          |\n",
            "| total_timesteps    | 819200         |\n",
            "| value_loss         | 35.94642       |\n",
            "---------------------------------------\n",
            "---------------------------------------\n",
            "| approxkl           | 1.4343364e-05  |\n",
            "| clipfrac           | 0.0            |\n",
            "| eplenmean          | 100            |\n",
            "| eprewmean          | 64.7           |\n",
            "| explained_variance | 0.00449        |\n",
            "| fps                | 838            |\n",
            "| nupdates           | 410            |\n",
            "| policy_entropy     | 0.10289988     |\n",
            "| policy_loss        | -0.00015302983 |\n",
            "| serial_timesteps   | 839680         |\n",
            "| time_elapsed       | 1.03e+03       |\n",
            "| total_timesteps    | 839680         |\n",
            "| value_loss         | 34.90442       |\n",
            "---------------------------------------\n",
            "---------------------------------------\n",
            "| approxkl           | 5.877389e-05   |\n",
            "| clipfrac           | 0.0008544922   |\n",
            "| eplenmean          | 100            |\n",
            "| eprewmean          | 64.5           |\n",
            "| explained_variance | 0.00432        |\n",
            "| fps                | 824            |\n",
            "| nupdates           | 420            |\n",
            "| policy_entropy     | 0.12061763     |\n",
            "| policy_loss        | -0.00039109663 |\n",
            "| serial_timesteps   | 860160         |\n",
            "| time_elapsed       | 1.05e+03       |\n",
            "| total_timesteps    | 860160         |\n",
            "| value_loss         | 34.45987       |\n",
            "---------------------------------------\n",
            "---------------------------------------\n",
            "| approxkl           | 5.6227575e-05  |\n",
            "| clipfrac           | 0.00061035156  |\n",
            "| eplenmean          | 100            |\n",
            "| eprewmean          | 64             |\n",
            "| explained_variance | 0.0051         |\n",
            "| fps                | 812            |\n",
            "| nupdates           | 430            |\n",
            "| policy_entropy     | 0.2427077      |\n",
            "| policy_loss        | -0.00032398602 |\n",
            "| serial_timesteps   | 880640         |\n",
            "| time_elapsed       | 1.08e+03       |\n",
            "| total_timesteps    | 880640         |\n",
            "| value_loss         | 35.45924       |\n",
            "---------------------------------------\n",
            "---------------------------------------\n",
            "| approxkl           | 4.1252355e-05  |\n",
            "| clipfrac           | 0.00036621094  |\n",
            "| eplenmean          | 100            |\n",
            "| eprewmean          | 64             |\n",
            "| explained_variance | 0.00483        |\n",
            "| fps                | 824            |\n",
            "| nupdates           | 440            |\n",
            "| policy_entropy     | 0.20547925     |\n",
            "| policy_loss        | -0.00016085859 |\n",
            "| serial_timesteps   | 901120         |\n",
            "| time_elapsed       | 1.1e+03        |\n",
            "| total_timesteps    | 901120         |\n",
            "| value_loss         | 35.351715      |\n",
            "---------------------------------------\n",
            "---------------------------------------\n",
            "| approxkl           | 0.00011932499  |\n",
            "| clipfrac           | 0.0009765625   |\n",
            "| eplenmean          | 100            |\n",
            "| eprewmean          | 64.3           |\n",
            "| explained_variance | 0.00469        |\n",
            "| fps                | 818            |\n",
            "| nupdates           | 450            |\n",
            "| policy_entropy     | 0.20611541     |\n",
            "| policy_loss        | -0.00061641814 |\n",
            "| serial_timesteps   | 921600         |\n",
            "| time_elapsed       | 1.13e+03       |\n",
            "| total_timesteps    | 921600         |\n",
            "| value_loss         | 35.456673      |\n",
            "---------------------------------------\n",
            "--------------------------------------\n",
            "| approxkl           | 7.864289e-05  |\n",
            "| clipfrac           | 0.00048828125 |\n",
            "| eplenmean          | 100           |\n",
            "| eprewmean          | 64            |\n",
            "| explained_variance | 0.00459       |\n",
            "| fps                | 822           |\n",
            "| nupdates           | 460           |\n",
            "| policy_entropy     | 0.29048282    |\n",
            "| policy_loss        | -0.0005369773 |\n",
            "| serial_timesteps   | 942080        |\n",
            "| time_elapsed       | 1.15e+03      |\n",
            "| total_timesteps    | 942080        |\n",
            "| value_loss         | 34.296616     |\n",
            "--------------------------------------\n",
            "--------------------------------------\n",
            "| approxkl           | 0.00015359488 |\n",
            "| clipfrac           | 0.0012207031  |\n",
            "| eplenmean          | 100           |\n",
            "| eprewmean          | 64            |\n",
            "| explained_variance | 0.00365       |\n",
            "| fps                | 837           |\n",
            "| nupdates           | 470           |\n",
            "| policy_entropy     | 0.25063187    |\n",
            "| policy_loss        | -0.0005049537 |\n",
            "| serial_timesteps   | 962560        |\n",
            "| time_elapsed       | 1.18e+03      |\n",
            "| total_timesteps    | 962560        |\n",
            "| value_loss         | 33.792503     |\n",
            "--------------------------------------\n",
            "---------------------------------------\n",
            "| approxkl           | 7.9060126e-05  |\n",
            "| clipfrac           | 0.00036621094  |\n",
            "| eplenmean          | 100            |\n",
            "| eprewmean          | 64.2           |\n",
            "| explained_variance | 0.00483        |\n",
            "| fps                | 814            |\n",
            "| nupdates           | 480            |\n",
            "| policy_entropy     | 0.21346286     |\n",
            "| policy_loss        | -0.00068052544 |\n",
            "| serial_timesteps   | 983040         |\n",
            "| time_elapsed       | 1.2e+03        |\n",
            "| total_timesteps    | 983040         |\n",
            "| value_loss         | 36.080666      |\n",
            "---------------------------------------\n",
            "[4cb9c993f48c:00299] *** Process received signal ***\n",
            "[4cb9c993f48c:00299] Signal: Segmentation fault (11)\n",
            "[4cb9c993f48c:00299] Signal code: Address not mapped (1)\n",
            "[4cb9c993f48c:00299] Failing at address: 0x7f895a3e520d\n",
            "[4cb9c993f48c:00299] [ 0] /lib/x86_64-linux-gnu/libpthread.so.0(+0x12890)[0x7f895d293890]\n",
            "[4cb9c993f48c:00299] [ 1] /lib/x86_64-linux-gnu/libc.so.6(getenv+0xa5)[0x7f895ced2785]\n",
            "[4cb9c993f48c:00299] [ 2] /usr/lib/x86_64-linux-gnu/libtcmalloc.so.4(_ZN13TCMallocGuardD1Ev+0x34)[0x7f895d73de44]\n",
            "[4cb9c993f48c:00299] [ 3] /lib/x86_64-linux-gnu/libc.so.6(__cxa_finalize+0xf5)[0x7f895ced3615]\n",
            "[4cb9c993f48c:00299] [ 4] /usr/lib/x86_64-linux-gnu/libtcmalloc.so.4(+0x13cb3)[0x7f895d73bcb3]\n",
            "[4cb9c993f48c:00299] *** End of error message ***\n"
          ],
          "name": "stdout"
        }
      ]
    },
    {
      "metadata": {
        "id": "HIEXarctnmL1",
        "colab_type": "text"
      },
      "cell_type": "markdown",
      "source": [
        "* **load from pre-trained model**"
      ]
    },
    {
      "metadata": {
        "id": "3vz8IqQ0lc_O",
        "colab_type": "code",
        "colab": {}
      },
      "cell_type": "code",
      "source": [
        "!OPENAI_LOGDIR=/content/research_project_school_of_ai_2019/logs/OneShotGo10M OPENAI_LOG_FORMAT=csv python -m baselines.run --alg=ppo2 --env=OneShotGo-v0 --load_path=\"OneShotGo10M\""
      ],
      "execution_count": 0,
      "outputs": []
    },
    {
      "metadata": {
        "id": "sOT6TH3Hmaly",
        "colab_type": "text"
      },
      "cell_type": "markdown",
      "source": [
        "## Result"
      ]
    },
    {
      "metadata": {
        "id": "Nz_o_w03nqTN",
        "colab_type": "text"
      },
      "cell_type": "markdown",
      "source": [
        "### Train"
      ]
    },
    {
      "metadata": {
        "id": "ueFfdlrekUH9",
        "colab_type": "code",
        "colab": {}
      },
      "cell_type": "code",
      "source": [
        "from baselines.common import plot_util as pu\n",
        "results = pu.load_results('/content/research_project_school_of_ai_2019/logs/OwnOneShotGo10M')"
      ],
      "execution_count": 0,
      "outputs": []
    },
    {
      "metadata": {
        "id": "jX8cFGnSl5jI",
        "colab_type": "code",
        "colab": {}
      },
      "cell_type": "code",
      "source": [
        "import matplotlib.pyplot as plt\n",
        "import numpy as np\n",
        "r = results[0]\n",
        "plt.plot(np.cumsum(r.monitor.l), r.monitor.r)"
      ],
      "execution_count": 0,
      "outputs": []
    },
    {
      "metadata": {
        "id": "LdZiy2KwmB-d",
        "colab_type": "code",
        "colab": {}
      },
      "cell_type": "code",
      "source": [
        "plt.plot(np.cumsum(r.monitor.l), pu.smooth(r.monitor.r, radius=10))"
      ],
      "execution_count": 0,
      "outputs": []
    },
    {
      "metadata": {
        "id": "xrpRQ8ztmFLd",
        "colab_type": "code",
        "colab": {}
      },
      "cell_type": "code",
      "source": [
        "plt.plot(r.progress.total_timesteps, r.progress.eprewmean)"
      ],
      "execution_count": 0,
      "outputs": []
    },
    {
      "metadata": {
        "id": "KLhGbwqNrTp1",
        "colab_type": "text"
      },
      "cell_type": "markdown",
      "source": [
        "### Test"
      ]
    },
    {
      "metadata": {
        "id": "Yhlw327BCH6Z",
        "colab_type": "code",
        "colab": {}
      },
      "cell_type": "code",
      "source": [
        "from baselines.common import plot_util as pu\n",
        "results = pu.load_results('/content/research_project_school_of_ai_2019/logs/OwnOneShotGo10M_Oneshot')\n",
        "results2 = pu.load_results('/content/research_project_school_of_ai_2019/logs/OwnOneShotGo10M_Oneshot_65_10x10')"
      ],
      "execution_count": 0,
      "outputs": []
    },
    {
      "metadata": {
        "id": "MMkQs0ZQCTve",
        "colab_type": "code",
        "colab": {}
      },
      "cell_type": "code",
      "source": [
        "import matplotlib.pyplot as plt\n",
        "import numpy as np\n",
        "r = results[0]\n",
        "plt.plot(np.cumsum(r.monitor.l), r.monitor.r)\n"
      ],
      "execution_count": 0,
      "outputs": []
    },
    {
      "metadata": {
        "id": "nS2OrC0sCYGV",
        "colab_type": "code",
        "colab": {}
      },
      "cell_type": "code",
      "source": [
        "plt.plot(np.cumsum(r.monitor.l), pu.smooth(r.monitor.r, radius=10))"
      ],
      "execution_count": 0,
      "outputs": []
    },
    {
      "metadata": {
        "id": "Oj4TNVdFCZo9",
        "colab_type": "code",
        "colab": {}
      },
      "cell_type": "code",
      "source": [
        "plt.plot(r.progress.total_timesteps, r.progress.eprewmean)"
      ],
      "execution_count": 0,
      "outputs": []
    },
    {
      "metadata": {
        "id": "OV-H4i3ORco2",
        "colab_type": "code",
        "colab": {}
      },
      "cell_type": "code",
      "source": [
        "r2 = results2[0]\n",
        "plt.plot(np.cumsum(r2.monitor.l), r2.monitor.r)"
      ],
      "execution_count": 0,
      "outputs": []
    },
    {
      "metadata": {
        "id": "fVmX0NJxRjWb",
        "colab_type": "code",
        "colab": {}
      },
      "cell_type": "code",
      "source": [
        "plt.plot(np.cumsum(r2.monitor.l), pu.smooth(r2.monitor.r, radius=10))"
      ],
      "execution_count": 0,
      "outputs": []
    },
    {
      "metadata": {
        "id": "3g3SbZJQR83c",
        "colab_type": "code",
        "colab": {}
      },
      "cell_type": "code",
      "source": [
        "plt.plot(r2.progress.total_timesteps, r2.progress.eprewmean)"
      ],
      "execution_count": 0,
      "outputs": []
    },
    {
      "metadata": {
        "id": "POf-u61QraUk",
        "colab_type": "text"
      },
      "cell_type": "markdown",
      "source": [
        "### data no. 012\n",
        "\n",
        "|**Before** | **After**|\n",
        "|---|---|\n",
        "|![Before](https://github.com/decoderkurt/research_project_school_of_ai_2019/raw/master/oneshotgo/data/result/012_10x10_not_trained.PNG)|![After](https://github.com/decoderkurt/research_project_school_of_ai_2019/raw/master/oneshotgo/data/result/012_10x10_trained.PNG)|\n"
      ]
    },
    {
      "metadata": {
        "id": "2REaOnWZsZlM",
        "colab_type": "text"
      },
      "cell_type": "markdown",
      "source": [
        "### data no. 065 (10x10)\n",
        "\n",
        "|**Before** | **After**|\n",
        "|---|---|\n",
        "|![Before](https://github.com/decoderkurt/research_project_school_of_ai_2019/raw/master/oneshotgo/data/result/065_10x10_unseen_oneshot_without_oneshot.PNG)|![After](https://github.com/decoderkurt/research_project_school_of_ai_2019/raw/master/oneshotgo/data/result/065_10x10_unseen_oneshot.PNG)|\n"
      ]
    },
    {
      "metadata": {
        "id": "obxHwgV4s05r",
        "colab_type": "text"
      },
      "cell_type": "markdown",
      "source": [
        "### data no. 065 (100x100)\n",
        "\n",
        "|**Before** | **After**|\n",
        "|---|---|\n",
        "|![Before](https://github.com/decoderkurt/research_project_school_of_ai_2019/raw/master/oneshotgo/data/result/065_100x100_unseen_oneshot_without_oneshot.PNG)|![After](https://github.com/decoderkurt/research_project_school_of_ai_2019/raw/master/oneshotgo/data/result/065_100x100_unseen_oneshot.PNG)|\n"
      ]
    }
  ]
}