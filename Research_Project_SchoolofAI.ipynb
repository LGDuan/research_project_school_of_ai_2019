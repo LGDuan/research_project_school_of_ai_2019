{
  "nbformat": 4,
  "nbformat_minor": 0,
  "metadata": {
    "colab": {
      "name": "Research_Project_SchoolofAI.ipynb",
      "version": "0.3.2",
      "provenance": [],
      "include_colab_link": true
    },
    "kernelspec": {
      "name": "python3",
      "display_name": "Python 3"
    }
  },
  "cells": [
    {
      "cell_type": "markdown",
      "metadata": {
        "id": "view-in-github",
        "colab_type": "text"
      },
      "source": [
        "<a href=\"https://colab.research.google.com/github/decoderkurt/research_project_school_of_ai_2019/blob/master/Research_Project_SchoolofAI.ipynb\" target=\"_parent\"><img src=\"https://colab.research.google.com/assets/colab-badge.svg\" alt=\"Open In Colab\"/></a>"
      ]
    },
    {
      "metadata": {
        "id": "Tr-7C_0AiMOi",
        "colab_type": "code",
        "colab": {
          "base_uri": "https://localhost:8080/",
          "height": 143
        },
        "outputId": "ecca0d2a-44a8-42a7-99a1-6f6f71d9ce7d"
      },
      "cell_type": "code",
      "source": [
        "!git clone https://github.com/decoderkurt/research_project_school_of_ai_2019.git"
      ],
      "execution_count": 2,
      "outputs": [
        {
          "output_type": "stream",
          "text": [
            "Cloning into 'research_project_school_of_ai_2019'...\n",
            "remote: Enumerating objects: 344, done.\u001b[K\n",
            "remote: Counting objects: 100% (344/344), done.\u001b[K\n",
            "remote: Compressing objects: 100% (314/314), done.\u001b[K\n",
            "remote: Total 344 (delta 75), reused 271 (delta 29), pack-reused 0\u001b[K\n",
            "Receiving objects: 100% (344/344), 4.48 MiB | 35.27 MiB/s, done.\n",
            "Resolving deltas: 100% (75/75), done.\n"
          ],
          "name": "stdout"
        }
      ]
    },
    {
      "metadata": {
        "id": "x-fDN_RjiP5w",
        "colab_type": "code",
        "colab": {}
      },
      "cell_type": "code",
      "source": [
        "%cd research_project_school_of_ai_2019"
      ],
      "execution_count": 0,
      "outputs": []
    },
    {
      "metadata": {
        "id": "DRmlu3NpiTxg",
        "colab_type": "code",
        "colab": {
          "base_uri": "https://localhost:8080/",
          "height": 287
        },
        "outputId": "36393a3f-b62e-46fe-c5f3-1179d2b1a305"
      },
      "cell_type": "code",
      "source": [
        "!pip install -e ."
      ],
      "execution_count": 8,
      "outputs": [
        {
          "output_type": "stream",
          "text": [
            "Obtaining file:///content/research_project_school_of_ai_2019\n",
            "Requirement already satisfied: gym in /usr/local/lib/python3.6/dist-packages (from oneshotgo==0.0.1) (0.10.9)\n",
            "Requirement already satisfied: scipy in /usr/local/lib/python3.6/dist-packages (from gym->oneshotgo==0.0.1) (1.1.0)\n",
            "Requirement already satisfied: numpy>=1.10.4 in /usr/local/lib/python3.6/dist-packages (from gym->oneshotgo==0.0.1) (1.14.6)\n",
            "Requirement already satisfied: requests>=2.0 in /usr/local/lib/python3.6/dist-packages (from gym->oneshotgo==0.0.1) (2.18.4)\n",
            "Requirement already satisfied: six in /usr/local/lib/python3.6/dist-packages (from gym->oneshotgo==0.0.1) (1.11.0)\n",
            "Requirement already satisfied: pyglet>=1.2.0 in /usr/local/lib/python3.6/dist-packages (from gym->oneshotgo==0.0.1) (1.3.2)\n",
            "Requirement already satisfied: certifi>=2017.4.17 in /usr/local/lib/python3.6/dist-packages (from requests>=2.0->gym->oneshotgo==0.0.1) (2018.11.29)\n",
            "Requirement already satisfied: chardet<3.1.0,>=3.0.2 in /usr/local/lib/python3.6/dist-packages (from requests>=2.0->gym->oneshotgo==0.0.1) (3.0.4)\n",
            "Requirement already satisfied: idna<2.7,>=2.5 in /usr/local/lib/python3.6/dist-packages (from requests>=2.0->gym->oneshotgo==0.0.1) (2.6)\n",
            "Requirement already satisfied: urllib3<1.23,>=1.21.1 in /usr/local/lib/python3.6/dist-packages (from requests>=2.0->gym->oneshotgo==0.0.1) (1.22)\n",
            "Requirement already satisfied: future in /usr/local/lib/python3.6/dist-packages (from pyglet>=1.2.0->gym->oneshotgo==0.0.1) (0.16.0)\n",
            "Installing collected packages: oneshotgo\n",
            "  Running setup.py develop for oneshotgo\n",
            "Successfully installed oneshotgo\n"
          ],
          "name": "stdout"
        }
      ]
    },
    {
      "metadata": {
        "id": "0MymkSBqiW4g",
        "colab_type": "code",
        "colab": {
          "base_uri": "https://localhost:8080/",
          "height": 1794
        },
        "outputId": "482f1f8f-4a94-4b8c-d9c5-42cc0214447f"
      },
      "cell_type": "code",
      "source": [
        "!python -m baselines.run --alg=ppo2 --env=OneShotGo-v0 --save_path=\"YourOwnOneShotGo10M\""
      ],
      "execution_count": 0,
      "outputs": [
        {
          "output_type": "stream",
          "text": [
            "Logging to /tmp/openai-2019-01-06-23-41-38-284381\n",
            "Logging to /tmp/openai-2019-01-06-23-41-40-130213\n",
            "env_type: env\n",
            "/usr/local/lib/python3.6/dist-packages/gym/envs/registration.py:14: PkgResourcesDeprecationWarning: Parameters to load are deprecated.  Call .resolve and .require separately.\n",
            "  result = entry_point.load(False)\n",
            "Training ppo2 on env:OneShotGo-v0 with arguments \n",
            "{'network': 'mlp'}\n",
            "-------------------------------------\n",
            "| approxkl           | 5.347629e-05 |\n",
            "| clipfrac           | 0.0          |\n",
            "| eplenmean          | 100          |\n",
            "| eprewmean          | 9.09         |\n",
            "| explained_variance | -0.0125      |\n",
            "| fps                | 711          |\n",
            "| nupdates           | 1            |\n",
            "| policy_entropy     | 5.5451283    |\n",
            "| policy_loss        | -0.003292927 |\n",
            "| serial_timesteps   | 2048         |\n",
            "| time_elapsed       | 2.88         |\n",
            "| total_timesteps    | 2048         |\n",
            "| value_loss         | 0.8331711    |\n",
            "-------------------------------------\n",
            "--------------------------------------\n",
            "| approxkl           | 0.00038086047 |\n",
            "| clipfrac           | 0.0           |\n",
            "| eplenmean          | 100           |\n",
            "| eprewmean          | 10.8          |\n",
            "| explained_variance | -0.0375       |\n",
            "| fps                | 826           |\n",
            "| nupdates           | 10            |\n",
            "| policy_entropy     | 5.5152664     |\n",
            "| policy_loss        | -0.0035185788 |\n",
            "| serial_timesteps   | 20480         |\n",
            "| time_elapsed       | 25.2          |\n",
            "| total_timesteps    | 20480         |\n",
            "| value_loss         | 0.8944081     |\n",
            "--------------------------------------\n",
            "--------------------------------------\n",
            "| approxkl           | 0.00078713347 |\n",
            "| clipfrac           | 0.0020751953  |\n",
            "| eplenmean          | 100           |\n",
            "| eprewmean          | 16.8          |\n",
            "| explained_variance | -0.025        |\n",
            "| fps                | 830           |\n",
            "| nupdates           | 20            |\n",
            "| policy_entropy     | 5.2889776     |\n",
            "| policy_loss        | -0.005154519  |\n",
            "| serial_timesteps   | 40960         |\n",
            "| time_elapsed       | 49.8          |\n",
            "| total_timesteps    | 40960         |\n",
            "| value_loss         | 2.1416712     |\n",
            "--------------------------------------\n",
            "--------------------------------------\n",
            "| approxkl           | 0.0018027538  |\n",
            "| clipfrac           | 0.011962891   |\n",
            "| eplenmean          | 100           |\n",
            "| eprewmean          | 29            |\n",
            "| explained_variance | -0.00845      |\n",
            "| fps                | 836           |\n",
            "| nupdates           | 30            |\n",
            "| policy_entropy     | 4.4101086     |\n",
            "| policy_loss        | -0.0055070203 |\n",
            "| serial_timesteps   | 61440         |\n",
            "| time_elapsed       | 74.4          |\n",
            "| total_timesteps    | 61440         |\n",
            "| value_loss         | 6.1812987     |\n",
            "--------------------------------------\n",
            "--------------------------------------\n",
            "| approxkl           | 0.0010319342  |\n",
            "| clipfrac           | 0.0           |\n",
            "| eplenmean          | 100           |\n",
            "| eprewmean          | 49.7          |\n",
            "| explained_variance | -0.00326      |\n",
            "| fps                | 825           |\n",
            "| nupdates           | 40            |\n",
            "| policy_entropy     | 2.022146      |\n",
            "| policy_loss        | -0.0011956629 |\n",
            "| serial_timesteps   | 81920         |\n",
            "| time_elapsed       | 99.1          |\n",
            "| total_timesteps    | 81920         |\n",
            "| value_loss         | 17.425001     |\n",
            "--------------------------------------\n",
            "---------------------------------------\n",
            "| approxkl           | 4.778454e-05   |\n",
            "| clipfrac           | 0.0            |\n",
            "| eplenmean          | 100            |\n",
            "| eprewmean          | 60.4           |\n",
            "| explained_variance | -0.00286       |\n",
            "| fps                | 831            |\n",
            "| nupdates           | 50             |\n",
            "| policy_entropy     | 0.88847184     |\n",
            "| policy_loss        | -0.00020204234 |\n",
            "| serial_timesteps   | 102400         |\n",
            "| time_elapsed       | 124            |\n",
            "| total_timesteps    | 102400         |\n",
            "| value_loss         | 22.82901       |\n",
            "---------------------------------------\n"
          ],
          "name": "stdout"
        }
      ]
    },
    {
      "metadata": {
        "id": "O3yaWi92iwUg",
        "colab_type": "code",
        "colab": {}
      },
      "cell_type": "code",
      "source": [
        ""
      ],
      "execution_count": 0,
      "outputs": []
    }
  ]
}