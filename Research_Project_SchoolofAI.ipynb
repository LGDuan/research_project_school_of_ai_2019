{
  "nbformat": 4,
  "nbformat_minor": 0,
  "metadata": {
    "colab": {
      "name": "Research_Project_SchoolofAI.ipynb",
      "version": "0.3.2",
      "provenance": [],
      "collapsed_sections": [],
      "include_colab_link": true
    },
    "kernelspec": {
      "name": "python3",
      "display_name": "Python 3"
    }
  },
  "cells": [
    {
      "cell_type": "markdown",
      "metadata": {
        "id": "view-in-github",
        "colab_type": "text"
      },
      "source": [
        "<a href=\"https://colab.research.google.com/github/decoderkurt/research_project_school_of_ai_2019/blob/master/Research_Project_SchoolofAI.ipynb\" target=\"_parent\"><img src=\"https://colab.research.google.com/assets/colab-badge.svg\" alt=\"Open In Colab\"/></a>"
      ]
    },
    {
      "metadata": {
        "id": "FkcYOQk0mWEG",
        "colab_type": "text"
      },
      "cell_type": "markdown",
      "source": [
        "# One shot medical image segmentation using PPO by Kurt Koo "
      ]
    },
    {
      "metadata": {
        "id": "oVw1kZtcrHuk",
        "colab_type": "text"
      },
      "cell_type": "markdown",
      "source": [
        "## Data"
      ]
    },
    {
      "metadata": {
        "id": "U3DKLJmppWO9",
        "colab_type": "text"
      },
      "cell_type": "markdown",
      "source": [
        "### image data no. 012"
      ]
    },
    {
      "metadata": {
        "id": "9L1kjrYaoa2U",
        "colab_type": "text"
      },
      "cell_type": "markdown",
      "source": [
        "![012Ori.bmp](https://github.com/decoderkurt/research_project_school_of_ai_2019/raw/master/oneshotgo/data/012Ori.bmp)\n",
        "![012Ori.png](https://github.com/decoderkurt/research_project_school_of_ai_2019/raw/master/oneshotgo/data/012Ori.png)"
      ]
    },
    {
      "metadata": {
        "id": "MzR-jSZWqP2V",
        "colab_type": "text"
      },
      "cell_type": "markdown",
      "source": [
        "**10x10 sized**"
      ]
    },
    {
      "metadata": {
        "id": "d9wI6crln6v0",
        "colab_type": "text"
      },
      "cell_type": "markdown",
      "source": [
        "![012.bmp](https://github.com/decoderkurt/research_project_school_of_ai_2019/raw/master/oneshotgo/data/012.bmp)\n",
        "![012.png](https://github.com/decoderkurt/research_project_school_of_ai_2019/raw/master/oneshotgo/data/012.png)"
      ]
    },
    {
      "metadata": {
        "id": "0A_2raE_qY2c",
        "colab_type": "text"
      },
      "cell_type": "markdown",
      "source": [
        "### image data no. 065"
      ]
    },
    {
      "metadata": {
        "id": "FQaxQ1F-otvu",
        "colab_type": "text"
      },
      "cell_type": "markdown",
      "source": [
        "![065Ori.bmp](https://github.com/decoderkurt/research_project_school_of_ai_2019/raw/master/oneshotgo/data/065Ori.bmp)\n",
        "![065Ori.png](https://github.com/decoderkurt/research_project_school_of_ai_2019/raw/master/oneshotgo/data/065Ori.png)"
      ]
    },
    {
      "metadata": {
        "id": "oA4QV6odqsZ8",
        "colab_type": "text"
      },
      "cell_type": "markdown",
      "source": [
        "**10x10**"
      ]
    },
    {
      "metadata": {
        "id": "XW_vZKiEo-Gd",
        "colab_type": "text"
      },
      "cell_type": "markdown",
      "source": [
        "![065_10x10.bmp](https://github.com/decoderkurt/research_project_school_of_ai_2019/raw/master/oneshotgo/data/065_10x10.bmp)\n",
        "![065_10x10.png](https://github.com/decoderkurt/research_project_school_of_ai_2019/raw/master/oneshotgo/data/065_10x10.png)\n",
        "\n",
        "\n"
      ]
    },
    {
      "metadata": {
        "id": "_cSYWqgHq53D",
        "colab_type": "text"
      },
      "cell_type": "markdown",
      "source": [
        "**100x100**"
      ]
    },
    {
      "metadata": {
        "id": "MTiv8SdCqsrc",
        "colab_type": "text"
      },
      "cell_type": "markdown",
      "source": [
        "\n",
        "![065Ori.bmp](https://github.com/decoderkurt/research_project_school_of_ai_2019/raw/master/oneshotgo/data/065_100x100.bmp)\n",
        "![065Ori.png](https://github.com/decoderkurt/research_project_school_of_ai_2019/raw/master/oneshotgo/data/065_100x100.png)\n",
        "\n"
      ]
    },
    {
      "metadata": {
        "id": "zXMxlybpmdd2",
        "colab_type": "text"
      },
      "cell_type": "markdown",
      "source": [
        "## Install"
      ]
    },
    {
      "metadata": {
        "id": "rZMu79c3l2CF",
        "colab_type": "text"
      },
      "cell_type": "markdown",
      "source": [
        "1.   Get code from github\n",
        "2.   Go to cloned direcory\n",
        "3.   Install OneShotGo env from code for OpenAI gym\n",
        "\n"
      ]
    },
    {
      "metadata": {
        "id": "Tr-7C_0AiMOi",
        "colab_type": "code",
        "colab": {}
      },
      "cell_type": "code",
      "source": [
        "!git clone https://github.com/decoderkurt/research_project_school_of_ai_2019.git"
      ],
      "execution_count": 0,
      "outputs": []
    },
    {
      "metadata": {
        "id": "x-fDN_RjiP5w",
        "colab_type": "code",
        "colab": {}
      },
      "cell_type": "code",
      "source": [
        "%cd research_project_school_of_ai_2019"
      ],
      "execution_count": 0,
      "outputs": []
    },
    {
      "metadata": {
        "id": "DRmlu3NpiTxg",
        "colab_type": "code",
        "colab": {}
      },
      "cell_type": "code",
      "source": [
        "!pip install -e ."
      ],
      "execution_count": 0,
      "outputs": []
    },
    {
      "metadata": {
        "id": "jDkT-fj6m2vW",
        "colab_type": "text"
      },
      "cell_type": "markdown",
      "source": [
        "## Run"
      ]
    },
    {
      "metadata": {
        "id": "PbHflLwzm_ft",
        "colab_type": "text"
      },
      "cell_type": "markdown",
      "source": [
        "* ** with save_your_own_model**"
      ]
    },
    {
      "metadata": {
        "id": "0MymkSBqiW4g",
        "colab_type": "code",
        "colab": {}
      },
      "cell_type": "code",
      "source": [
        "!python -m baselines.run --alg=ppo2 --env=OneShotGo-v0 --save_path=\"YourOwnOneShotGo10M\" --num_env=1 --num_timesteps=1e6"
      ],
      "execution_count": 0,
      "outputs": []
    },
    {
      "metadata": {
        "id": "1hbBH2JNnP0u",
        "colab_type": "text"
      },
      "cell_type": "markdown",
      "source": [
        "* ** with loading from your own saved model**"
      ]
    },
    {
      "metadata": {
        "id": "O3yaWi92iwUg",
        "colab_type": "code",
        "colab": {}
      },
      "cell_type": "code",
      "source": [
        "!python -m baselines.run --alg=ppo2 --env=OneShotGo-v0 --load_path=\"YourOwnOneShotGo10M\" --num_env=1 --num_timesteps=1e6"
      ],
      "execution_count": 0,
      "outputs": []
    },
    {
      "metadata": {
        "id": "HIEXarctnmL1",
        "colab_type": "text"
      },
      "cell_type": "markdown",
      "source": [
        "* **load from pre-trained model**"
      ]
    },
    {
      "metadata": {
        "id": "3vz8IqQ0lc_O",
        "colab_type": "code",
        "colab": {}
      },
      "cell_type": "code",
      "source": [
        "!OPENAI_LOGDIR=/content/research_project_school_of_ai_2019/logs/OneShotGo10M OPENAI_LOG_FORMAT=csv python -m baselines.run --alg=ppo2 --env=OneShotGo-v0 --load_path=\"OneShotGo10M\""
      ],
      "execution_count": 0,
      "outputs": []
    },
    {
      "metadata": {
        "id": "sOT6TH3Hmaly",
        "colab_type": "text"
      },
      "cell_type": "markdown",
      "source": [
        "## Result"
      ]
    },
    {
      "metadata": {
        "id": "Nz_o_w03nqTN",
        "colab_type": "text"
      },
      "cell_type": "markdown",
      "source": [
        "### Train"
      ]
    },
    {
      "metadata": {
        "id": "ueFfdlrekUH9",
        "colab_type": "code",
        "colab": {}
      },
      "cell_type": "code",
      "source": [
        "from baselines.common import plot_util as pu\n",
        "results = pu.load_results('/content/research_project_school_of_ai_2019/logs/OwnOneShotGo10M')"
      ],
      "execution_count": 0,
      "outputs": []
    },
    {
      "metadata": {
        "id": "jX8cFGnSl5jI",
        "colab_type": "code",
        "colab": {}
      },
      "cell_type": "code",
      "source": [
        "import matplotlib.pyplot as plt\n",
        "import numpy as np\n",
        "r = results[0]\n",
        "plt.plot(np.cumsum(r.monitor.l), r.monitor.r)"
      ],
      "execution_count": 0,
      "outputs": []
    },
    {
      "metadata": {
        "id": "LdZiy2KwmB-d",
        "colab_type": "code",
        "colab": {}
      },
      "cell_type": "code",
      "source": [
        "plt.plot(np.cumsum(r.monitor.l), pu.smooth(r.monitor.r, radius=10))"
      ],
      "execution_count": 0,
      "outputs": []
    },
    {
      "metadata": {
        "id": "xrpRQ8ztmFLd",
        "colab_type": "code",
        "colab": {}
      },
      "cell_type": "code",
      "source": [
        "plt.plot(r.progress.total_timesteps, r.progress.eprewmean)"
      ],
      "execution_count": 0,
      "outputs": []
    },
    {
      "metadata": {
        "id": "KLhGbwqNrTp1",
        "colab_type": "text"
      },
      "cell_type": "markdown",
      "source": [
        "### Test"
      ]
    },
    {
      "metadata": {
        "id": "Yhlw327BCH6Z",
        "colab_type": "code",
        "colab": {}
      },
      "cell_type": "code",
      "source": [
        "from baselines.common import plot_util as pu\n",
        "results = pu.load_results('/content/research_project_school_of_ai_2019/logs/OwnOneShotGo10M_Oneshot')\n",
        "results2 = pu.load_results('/content/research_project_school_of_ai_2019/logs/OwnOneShotGo10M_Oneshot_65_10x10')"
      ],
      "execution_count": 0,
      "outputs": []
    },
    {
      "metadata": {
        "id": "MMkQs0ZQCTve",
        "colab_type": "code",
        "colab": {}
      },
      "cell_type": "code",
      "source": [
        "import matplotlib.pyplot as plt\n",
        "import numpy as np\n",
        "r = results[0]\n",
        "plt.plot(np.cumsum(r.monitor.l), r.monitor.r)\n"
      ],
      "execution_count": 0,
      "outputs": []
    },
    {
      "metadata": {
        "id": "nS2OrC0sCYGV",
        "colab_type": "code",
        "colab": {}
      },
      "cell_type": "code",
      "source": [
        "plt.plot(np.cumsum(r.monitor.l), pu.smooth(r.monitor.r, radius=10))"
      ],
      "execution_count": 0,
      "outputs": []
    },
    {
      "metadata": {
        "id": "Oj4TNVdFCZo9",
        "colab_type": "code",
        "colab": {}
      },
      "cell_type": "code",
      "source": [
        "plt.plot(r.progress.total_timesteps, r.progress.eprewmean)"
      ],
      "execution_count": 0,
      "outputs": []
    },
    {
      "metadata": {
        "id": "OV-H4i3ORco2",
        "colab_type": "code",
        "colab": {}
      },
      "cell_type": "code",
      "source": [
        "r2 = results2[0]\n",
        "plt.plot(np.cumsum(r2.monitor.l), r2.monitor.r)"
      ],
      "execution_count": 0,
      "outputs": []
    },
    {
      "metadata": {
        "id": "fVmX0NJxRjWb",
        "colab_type": "code",
        "colab": {}
      },
      "cell_type": "code",
      "source": [
        "plt.plot(np.cumsum(r2.monitor.l), pu.smooth(r2.monitor.r, radius=10))"
      ],
      "execution_count": 0,
      "outputs": []
    },
    {
      "metadata": {
        "id": "3g3SbZJQR83c",
        "colab_type": "code",
        "colab": {}
      },
      "cell_type": "code",
      "source": [
        "plt.plot(r2.progress.total_timesteps, r2.progress.eprewmean)"
      ],
      "execution_count": 0,
      "outputs": []
    },
    {
      "metadata": {
        "id": "POf-u61QraUk",
        "colab_type": "text"
      },
      "cell_type": "markdown",
      "source": [
        "### data no. 012\n",
        "\n",
        "|**Before** | **After**|\n",
        "|---|---|\n",
        "|![Before](https://github.com/decoderkurt/research_project_school_of_ai_2019/raw/master/oneshotgo/data/result/012_10x10_not_trained.PNG)|![After](https://github.com/decoderkurt/research_project_school_of_ai_2019/raw/master/oneshotgo/data/result/012_10x10_trained.PNG)|\n"
      ]
    },
    {
      "metadata": {
        "id": "2REaOnWZsZlM",
        "colab_type": "text"
      },
      "cell_type": "markdown",
      "source": [
        "### data no. 065 (10x10)\n",
        "\n",
        "|**Before** | **After**|\n",
        "|---|---|\n",
        "|![Before](https://github.com/decoderkurt/research_project_school_of_ai_2019/raw/master/oneshotgo/data/result/065_10x10_unseen_oneshot_without_oneshot.PNG)|![After](https://github.com/decoderkurt/research_project_school_of_ai_2019/raw/master/oneshotgo/data/result/065_10x10_unseen_oneshot.PNG)|\n"
      ]
    },
    {
      "metadata": {
        "id": "obxHwgV4s05r",
        "colab_type": "text"
      },
      "cell_type": "markdown",
      "source": [
        "### data no. 065 (100x100)\n",
        "\n",
        "|**Before** | **After**|\n",
        "|---|---|\n",
        "|![Before](https://github.com/decoderkurt/research_project_school_of_ai_2019/raw/master/oneshotgo/data/result/065_100x100_unseen_oneshot_without_oneshot.PNG)|![After](https://github.com/decoderkurt/research_project_school_of_ai_2019/raw/master/oneshotgo/data/result/065_100x100_unseen_oneshot.PNG)|\n"
      ]
    }
  ]
}